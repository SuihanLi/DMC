{
 "cells": [
  {
   "cell_type": "markdown",
   "metadata": {},
   "source": [
    "# Implementing Dynamic Matrix Control in Python\n",
    "\n",
    "#### Author: Siang Lim, February 2020\n",
    "\n",
    "** work in progress **\n",
    "\n",
    "- Contents of this notebook are derived from DMC literature:\n",
    "    - Hokanson, D. A., & Gerstle, J. G. (1992). **Dynamic Matrix Control Multivariable Controllers.** Practical Distillation Control, 248–271.\n",
    "    - Sorensen, R. C., & Cutler, C. R. (1998). **LP integrates economics into dynamic matrix control.** Hydrocarbon processing (International ed.), 77(9), 57-65.\n",
    "    - Morshedi, A. M., Cutler, C. R., & Skrovanek, T. A. (1985, June). **Optimal solution of dynamic matrix control with linear programing techniques (LDMC).** In 1985 American Control Conference (pp. 199-208). IEEE."
   ]
  },
  {
   "cell_type": "code",
   "execution_count": 1,
   "metadata": {
    "collapsed": true
   },
   "outputs": [],
   "source": [
    "import numpy as np\n",
    "import matplotlib.pyplot as plt"
   ]
  },
  {
   "cell_type": "markdown",
   "metadata": {},
   "source": [
    "# Definitions\n",
    "\n",
    "#### Independent Variables\n",
    "\n",
    "- MV (Manipulated Variables)\n",
    "    - Variables that we can move directly, valves, feed rate etc.\n",
    "\n",
    "- FF (Feedforward Variables)\n",
    "    - Disturbances that we can't control directly - ambient temperature.\n",
    "\n",
    "#### Dependent Variables\n",
    "- Variables that change due to a change in the independent variables, e.g. temperatures, pressures\n"
   ]
  },
  {
   "cell_type": "markdown",
   "metadata": {},
   "source": [
    "## Step Response Convolution Model"
   ]
  },
  {
   "cell_type": "markdown",
   "metadata": {},
   "source": [
    "The sequence $a_j$, where $j = 0,1,2,3 \\dots$ is the step response convolution model, which is the basis for DMC.\n",
    "\n",
    "Remembering that everything so far is in deviation variables, at is no more than a series of numbers based on\n",
    "a set length (time to steady state) and a set sampling interval.\n",
    "\n",
    "There is no set form of the model, other than that steady state is reached by the last interval. In fact, the last\n",
    "value $a_t$ is the process steady-state gain. "
   ]
  },
  {
   "cell_type": "code",
   "execution_count": 2,
   "metadata": {
    "collapsed": true
   },
   "outputs": [],
   "source": [
    "a = -np.array([0.5,1.0,1.5,1.8,1.9,1.95,1.98,1.99,1.999,2])"
   ]
  },
  {
   "cell_type": "code",
   "execution_count": 3,
   "metadata": {},
   "outputs": [
    {
     "data": {
      "text/plain": [
       "Text(0,0.5,'Response')"
      ]
     },
     "execution_count": 3,
     "metadata": {},
     "output_type": "execute_result"
    },
    {
     "data": {
      "image/png": "[encoded data removed]",
      "text/plain": [
       "<Figure size 432x288 with 1 Axes>"
      ]
     },
     "metadata": {},
     "output_type": "display_data"
    }
   ],
   "source": [
    "%matplotlib inline\n",
    "plt.plot(a, '-or')\n",
    "plt.xlabel(\"Time (s)\")\n",
    "plt.ylabel(\"Response\")"
   ]
  },
  {
   "cell_type": "markdown",
   "metadata": {},
   "source": [
    "## Inputs"
   ]
  },
  {
   "cell_type": "markdown",
   "metadata": {},
   "source": [
    "For a lined out process with a single step in $u$ at time 0:\n",
    "\n",
    "$$ \\Delta u_0 = u_0 - u_{-1} $$\n",
    "\n",
    "then\n",
    "\n",
    "$$ y_1 - y_0 = a_1 \\Delta u_0 $$\n",
    "$$ y_2 - y_0 = a_2 \\Delta u_0 $$\n",
    "$$ y_3 - y_0 = a_3 \\Delta u_0 $$\n",
    "$$ y_4 - y_0 = a_4 \\Delta u_0 $$\n",
    "$$ \\vdots $$\n",
    "$$ y_t - y_0 = a_t \\Delta u_0 $$\n",
    "\n",
    "This is essentially the definition of the step response convolution model described before. What is interesting about this is that we can calculate what y will be at each interval for successive moves in u.\n",
    "\n",
    "For example purposes only, let us examine a series of three moves \"into the future\": one now, one at the next time interval, and one two time intervals into the future: \n",
    "\n",
    "$$ \\Delta u_0 = u_0 - u_{-1} $$\n",
    "$$ \\Delta u_1 = u_1 - u_{0} $$\n",
    "$$ \\Delta u_2 = u_2 - u_{1} $$"
   ]
  },
  {
   "cell_type": "code",
   "execution_count": 4,
   "metadata": {},
   "outputs": [
    {
     "name": "stdout",
     "output_type": "stream",
     "text": [
      "[[ 0]\n",
      " [ 1]\n",
      " [ 0]\n",
      " [ 0]\n",
      " [-1]]\n"
     ]
    }
   ],
   "source": [
    "U = np.atleast_2d(np.array([0,1,0,0,-1])).T\n",
    "print(U)"
   ]
  },
  {
   "cell_type": "code",
   "execution_count": 5,
   "metadata": {},
   "outputs": [
    {
     "data": {
      "text/plain": [
       "[<matplotlib.lines.Line2D at 0x10e2d79e8>]"
      ]
     },
     "execution_count": 5,
     "metadata": {},
     "output_type": "execute_result"
    },
    {
     "data": {
      "image/png": "[encoded data removed]",
      "text/plain": [
       "<Figure size 432x288 with 1 Axes>"
      ]
     },
     "metadata": {},
     "output_type": "display_data"
    }
   ],
   "source": [
    "I_obs = np.pad(np.cumsum(U),(0,8),'constant')\n",
    "plt.step(I_obs, '-bx', where=\"post\")"
   ]
  },
  {
   "cell_type": "markdown",
   "metadata": {},
   "source": [
    "then\n",
    "\n",
    "$$ \n",
    "\\begin{align}\n",
    "y_1 - y_0 & = a_1 \\Delta u_0 \\\\\n",
    "y_2 - y_0 & = a_2 \\Delta u_0 + a_1 \\Delta u_1 \\\\\n",
    "y_3 - y_0 & = a_3 \\Delta u_0 + a_2 \\Delta u_1 + + a_1 \\Delta u_2 \\\\\n",
    "y_4 - y_0 & = a_4 \\Delta u_0 + a_3 \\Delta u_1 + + a_2 \\Delta u_2 \\\\\n",
    "\\vdots & \\\\\n",
    "y_t - y_0 & = a_t \\Delta u_0 + a_{t-1} \\Delta u_1 + + a_{t-2} \\Delta u_2 \\\\\n",
    "\\end{align}\n",
    "$$\n"
   ]
  },
  {
   "cell_type": "code",
   "execution_count": 6,
   "metadata": {},
   "outputs": [
    {
     "name": "stdout",
     "output_type": "stream",
     "text": [
      "[[-0.5    0.     0.     0.     0.   ]\n",
      " [-1.    -0.5    0.     0.     0.   ]\n",
      " [-1.5   -1.    -0.5    0.     0.   ]\n",
      " [-1.8   -1.5   -1.    -0.5    0.   ]\n",
      " [-1.9   -1.8   -1.5   -1.    -0.5  ]\n",
      " [-1.95  -1.9   -1.8   -1.5   -1.   ]\n",
      " [-1.98  -1.95  -1.9   -1.8   -1.5  ]\n",
      " [-1.99  -1.98  -1.95  -1.9   -1.8  ]\n",
      " [-1.999 -1.99  -1.98  -1.95  -1.9  ]\n",
      " [-2.    -1.999 -1.99  -1.98  -1.95 ]]\n"
     ]
    }
   ],
   "source": [
    "# Build dynamic matrix\n",
    "t = a.shape[0]\n",
    "u = U.shape[0]\n",
    "\n",
    "A = np.tile(a, (u,1)).T\n",
    "row_indices = np.atleast_2d(np.arange(t)).T - np.arange(u)\n",
    "col_indices = np.arange(u)\n",
    "A = np.tril(A[row_indices,col_indices])\n",
    "print(A)"
   ]
  },
  {
   "cell_type": "code",
   "execution_count": 7,
   "metadata": {
    "collapsed": true
   },
   "outputs": [],
   "source": [
    "Y = np.multiply(A,U.T)\n",
    "Y_obs = np.matmul(A,U)\n",
    "U_obs = np.pad(np.cumsum(U),(0,a.shape[0]-U.shape[0]),'constant')"
   ]
  },
  {
   "cell_type": "code",
   "execution_count": 8,
   "metadata": {},
   "outputs": [
    {
     "data": {
      "text/plain": [
       "array([[-0.   ,  0.   ,  0.   ,  0.   , -0.   ],\n",
       "       [-0.   , -0.5  ,  0.   ,  0.   , -0.   ],\n",
       "       [-0.   , -1.   , -0.   ,  0.   , -0.   ],\n",
       "       [-0.   , -1.5  , -0.   , -0.   , -0.   ],\n",
       "       [-0.   , -1.8  , -0.   , -0.   ,  0.5  ],\n",
       "       [-0.   , -1.9  , -0.   , -0.   ,  1.   ],\n",
       "       [-0.   , -1.95 , -0.   , -0.   ,  1.5  ],\n",
       "       [-0.   , -1.98 , -0.   , -0.   ,  1.8  ],\n",
       "       [-0.   , -1.99 , -0.   , -0.   ,  1.9  ],\n",
       "       [-0.   , -1.999, -0.   , -0.   ,  1.95 ]])"
      ]
     },
     "execution_count": 8,
     "metadata": {},
     "output_type": "execute_result"
    }
   ],
   "source": [
    "Y"
   ]
  },
  {
   "cell_type": "code",
   "execution_count": 9,
   "metadata": {},
   "outputs": [
    {
     "data": {
      "text/plain": [
       "(array([1, 2, 3, 4, 4, 5, 5, 6, 6, 7, 7, 8, 8, 9, 9]),\n",
       " array([1, 1, 1, 1, 4, 1, 4, 1, 4, 1, 4, 1, 4, 1, 4]))"
      ]
     },
     "execution_count": 9,
     "metadata": {},
     "output_type": "execute_result"
    }
   ],
   "source": [
    "np.nonzero(Y)"
   ]
  },
  {
   "cell_type": "code",
   "execution_count": 10,
   "metadata": {},
   "outputs": [
    {
     "data": {
      "text/plain": [
       "array([1, 4])"
      ]
     },
     "execution_count": 10,
     "metadata": {},
     "output_type": "execute_result"
    }
   ],
   "source": [
    "np.nonzero(np.any(Y != 0, axis=0))[0]"
   ]
  },
  {
   "cell_type": "code",
   "execution_count": 11,
   "metadata": {},
   "outputs": [
    {
     "data": {
      "image/png": "[encoded data removed]",
      "text/plain": [
       "<Figure size 576x432 with 2 Axes>"
      ]
     },
     "metadata": {},
     "output_type": "display_data"
    }
   ],
   "source": [
    "plt.figure(figsize=(8,6));\n",
    "plt.subplot(2, 1, 1)\n",
    "plt.step(I_obs, '-bx', where=\"post\")\n",
    "plt.subplot(2, 1, 2)\n",
    "plt.plot(Y_obs,'-or')\n",
    "\n",
    "# Plot non-zero observations\n",
    "for i in np.nonzero(np.any(Y != 0, axis=0))[0]:\n",
    "    plt.plot(Y[:,i],'--x')"
   ]
  },
  {
   "cell_type": "markdown",
   "metadata": {},
   "source": [
    "Unfortunately, the process is rarely at steady state when control is initiated. If we somehow knew the past 10 moves in $u$, we could get a series of 10 future predictions of $y$ formulated by extending the preceding logic\n",
    "and going back in time. \n",
    "\n",
    "Let us call this the vector $y_p$"
   ]
  },
  {
   "cell_type": "code",
   "execution_count": 12,
   "metadata": {
    "collapsed": true
   },
   "outputs": [],
   "source": [
    "U_hist = np.array([1,0,0,0,-1,0,0,0,0,0])"
   ]
  },
  {
   "cell_type": "code",
   "execution_count": 13,
   "metadata": {},
   "outputs": [
    {
     "name": "stdout",
     "output_type": "stream",
     "text": [
      "[[-0.5   -0.5   -0.5   -0.5   -0.5   -0.5   -0.5   -0.5   -0.5   -0.5  ]\n",
      " [-1.    -1.    -1.    -1.    -1.    -1.    -1.    -1.    -1.    -1.   ]\n",
      " [-1.5   -1.5   -1.5   -1.5   -1.5   -1.5   -1.5   -1.5   -1.5   -1.5  ]\n",
      " [-1.8   -1.8   -1.8   -1.8   -1.8   -1.8   -1.8   -1.8   -1.8   -1.8  ]\n",
      " [-1.9   -1.9   -1.9   -1.9   -1.9   -1.9   -1.9   -1.9   -1.9   -1.9  ]\n",
      " [-1.95  -1.95  -1.95  -1.95  -1.95  -1.95  -1.95  -1.95  -1.95  -1.95 ]\n",
      " [-1.98  -1.98  -1.98  -1.98  -1.98  -1.98  -1.98  -1.98  -1.98  -1.98 ]\n",
      " [-1.99  -1.99  -1.99  -1.99  -1.99  -1.99  -1.99  -1.99  -1.99  -1.99 ]\n",
      " [-1.999 -1.999 -1.999 -1.999 -1.999 -1.999 -1.999 -1.999 -1.999 -1.999]\n",
      " [-2.    -2.    -2.    -2.    -2.    -2.    -2.    -2.    -2.    -2.   ]]\n"
     ]
    }
   ],
   "source": [
    "A_hist = np.tile(a, (U_hist.shape[0], 1)).T\n",
    "print(A_hist)"
   ]
  },
  {
   "cell_type": "code",
   "execution_count": 14,
   "metadata": {
    "collapsed": true
   },
   "outputs": [],
   "source": [
    "row_shift_indices = np.atleast_2d(np.arange(a.shape[0])).T + np.flip(np.arange(A_hist.shape[0]))\n",
    "row_shift_indices = np.triu(row_shift_indices)\n",
    "col_indices = np.arange(A_hist.shape[0])"
   ]
  },
  {
   "cell_type": "code",
   "execution_count": 15,
   "metadata": {},
   "outputs": [
    {
     "name": "stdout",
     "output_type": "stream",
     "text": [
      "[[-2.    -1.999 -1.99  -1.98  -1.95  -1.9   -1.8   -1.5   -1.    -0.5  ]\n",
      " [-2.    -2.    -1.999 -1.99  -1.98  -1.95  -1.9   -1.8   -1.5   -1.   ]\n",
      " [-2.    -2.    -2.    -1.999 -1.99  -1.98  -1.95  -1.9   -1.8   -1.5  ]\n",
      " [-2.    -2.    -2.    -2.    -1.999 -1.99  -1.98  -1.95  -1.9   -1.8  ]\n",
      " [-2.    -2.    -2.    -2.    -2.    -1.999 -1.99  -1.98  -1.95  -1.9  ]\n",
      " [-2.    -2.    -2.    -2.    -2.    -2.    -1.999 -1.99  -1.98  -1.95 ]\n",
      " [-2.    -2.    -2.    -2.    -2.    -2.    -2.    -1.999 -1.99  -1.98 ]\n",
      " [-2.    -2.    -2.    -2.    -2.    -2.    -2.    -2.    -1.999 -1.99 ]\n",
      " [-2.    -2.    -2.    -2.    -2.    -2.    -2.    -2.    -2.    -1.999]\n",
      " [-2.    -2.    -2.    -2.    -2.    -2.    -2.    -2.    -2.    -2.   ]]\n"
     ]
    }
   ],
   "source": [
    "M = A_hist[row_shift_indices,col_indices]\n",
    "M[np.tril_indices(M.shape[0])] = a[-1]\n",
    "print(M)"
   ]
  },
  {
   "cell_type": "code",
   "execution_count": 16,
   "metadata": {
    "collapsed": true
   },
   "outputs": [],
   "source": [
    "y_initial = 0"
   ]
  },
  {
   "cell_type": "code",
   "execution_count": 17,
   "metadata": {},
   "outputs": [
    {
     "name": "stdout",
     "output_type": "stream",
     "text": [
      "[-0.05  -0.02  -0.01  -0.001  0.     0.     0.     0.     0.     0.   ]\n"
     ]
    }
   ],
   "source": [
    "Y_pred = np.matmul(M,U_hist) + y_initial\n",
    "print(Y_pred)"
   ]
  },
  {
   "cell_type": "markdown",
   "metadata": {},
   "source": [
    "The preceding convolution model will be wrong due to unmodelled load disturbances, nonlinearity in the models, and\n",
    "modelling errors. One way to correct for these is by calculating a prediction error $b$ at the current time and then adjusting the predictions. In equation form:\n",
    "\n",
    "$$ b = y_0^{actual} - y_0^{pred} $$"
   ]
  },
  {
   "cell_type": "code",
   "execution_count": 18,
   "metadata": {
    "collapsed": true
   },
   "outputs": [],
   "source": [
    "y0_actual = 0"
   ]
  },
  {
   "cell_type": "markdown",
   "metadata": {},
   "source": [
    "Then the vector y^{pred} is corrected by $b$ for predictions 1 to 10 as \n",
    "\n",
    "$$ y_i^{pc} = y_i^{pred} + b  $$\n",
    "\n",
    "Where $y^{pc}$ is the vector of corrected predictions."
   ]
  },
  {
   "cell_type": "code",
   "execution_count": 19,
   "metadata": {
    "collapsed": true
   },
   "outputs": [],
   "source": [
    "b = y0_actual - Y_pred[0]"
   ]
  },
  {
   "cell_type": "markdown",
   "metadata": {},
   "source": [
    "The equation becomes\n",
    "\n",
    "\n",
    "$$ \n",
    "\\begin{align}\n",
    "y_1 - y_0 & = a_1 \\Delta u_0 + y_1^{pc} \\\\\n",
    "y_2 - y_0 & = a_2 \\Delta u_0 + a_1 \\Delta u_1 + y_2^{pc} \\\\\n",
    "y_3 - y_0 & = a_3 \\Delta u_0 + a_2 \\Delta u_1 + + a_1 \\Delta u_2 + y_3^{pc} \\\\\n",
    "y_4 - y_0 & = a_4 \\Delta u_0 + a_3 \\Delta u_1 + + a_2 \\Delta u_2 + y_4^{pc} \\\\\n",
    "\\vdots & \\\\\n",
    "y_t - y_0 & = a_t \\Delta u_0 + a_{t-1} \\Delta u_1 + + a_{t-2} \\Delta u_2 + y_t^{pc} \\\\\n",
    "\\end{align}\n",
    "$$\n",
    "\n",
    "In vector form:\n",
    "\n",
    "$$ y = y^{pc} + A\\Delta u $$"
   ]
  },
  {
   "cell_type": "markdown",
   "metadata": {},
   "source": [
    "# Control Law\n",
    "\n",
    "From the preceding text, we have a set of\n",
    "future predictions of $y$ based on past moves\n",
    "and a set of future values of $y$ with a set of\n",
    "three moves. \n",
    "\n",
    "Let us now assume that we\n",
    "have a desired target for $y$ called $y^{SP}$. (We,\n",
    "of course, need this for any control action!)\n",
    "\n",
    "One criterion we can use is to minimize the\n",
    "error squared over the time between now\n",
    "and the future (that is, to use the least squares criterion). In vector equation form:\n",
    "\n",
    "$$ \\min (y^{sp} - y)^2 $$\n",
    "\n",
    "Substituting the previous equation:\n",
    "\n",
    "$$ \\min (y^{sp} - y^{pc} + A\\Delta u)^2 $$"
   ]
  },
  {
   "cell_type": "code",
   "execution_count": null,
   "metadata": {
    "collapsed": true
   },
   "outputs": [],
   "source": []
  },
  {
   "cell_type": "code",
   "execution_count": null,
   "metadata": {
    "collapsed": true
   },
   "outputs": [],
   "source": []
  }
 ],
 "metadata": {
  "kernelspec": {
   "display_name": "Python 3",
   "language": "python",
   "name": "python3"
  },
  "language_info": {
   "codemirror_mode": {
    "name": "ipython",
    "version": 3
   },
   "file_extension": ".py",
   "mimetype": "text/x-python",
   "name": "python",
   "nbconvert_exporter": "python",
   "pygments_lexer": "ipython3",
   "version": "3.6.7"
  }
 },
 "nbformat": 4,
 "nbformat_minor": 2
}
